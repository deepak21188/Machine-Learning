{
 "cells": [
  {
   "cell_type": "markdown",
   "metadata": {},
   "source": [
    "Deepak Kumar (V00889149)"
   ]
  },
  {
   "cell_type": "markdown",
   "metadata": {},
   "source": [
    "# Support Vector Machine Implementation"
   ]
  },
  {
   "cell_type": "markdown",
   "metadata": {},
   "source": [
    "In this notebook , I have implemented basic Support vector machine using convex optimization and plotted decision hyperplane and support vector boudries. I have not used any Scikit learn library for this purpose."
   ]
  },
  {
   "cell_type": "code",
   "execution_count": 39,
   "metadata": {
    "collapsed": true
   },
   "outputs": [],
   "source": [
    "\n",
    "import matplotlib.pyplot as plt\n",
    "from matplotlib import style\n",
    "import numpy as np\n",
    "%matplotlib inline"
   ]
  },
  {
   "cell_type": "code",
   "execution_count": 40,
   "metadata": {},
   "outputs": [],
   "source": [
    "class SVM:\n",
    "    def __init__(self):\n",
    "        self.colors = {1:'g',-1:'c'}\n",
    "        self.fig= plt.figure()\n",
    "        self.ax =self.fig.add_subplot(1,1,1)\n",
    "    \n",
    "    #train the data\n",
    "    def fit(self,X):\n",
    "        self.X= X\n",
    "        fulldata = []\n",
    "        #for storing optimoized value of [w,b]\n",
    "        optimize_d = {}\n",
    "\n",
    "        transforms = [[1,1],\n",
    "                     [-1,1],\n",
    "                     [-1,-1],\n",
    "                     [1,-1]]\n",
    "\n",
    "        \n",
    "        #loop for taking all the data values in a list\n",
    "        for yi in self.X:\n",
    "            for datapoints in self.X[yi]:\n",
    "                for xi in datapoints:\n",
    "                    fulldata.append(xi)\n",
    "\n",
    "        self.max_x = max(fulldata) # maximum value in data\n",
    "        self.min_x = min(fulldata) # minimum value in data\n",
    "        fulldata= None\n",
    "        \n",
    "        #Step sizes for optimation\n",
    "        step_sizes = [self.max_x * 0.1,\n",
    "                      self.max_x * 0.01,\n",
    "                      self.max_x * 0.001\n",
    "                     ]\n",
    "        b_range_multiple = 2\n",
    "        b_multiple = 5\n",
    "\n",
    "        latest_optimum= self.max_x * 10\n",
    "        \n",
    "        #loop for each step sizes\n",
    "        for step in step_sizes:\n",
    "            #take latest_optimum value as w for next looop\n",
    "            w= np.array([latest_optimum,latest_optimum])\n",
    "            IsOptimized = False\n",
    "            \n",
    "            while not IsOptimized:\n",
    "                for b in np.arange(-1*(self.max_x*b_range_multiple),\n",
    "                                  self.max_x*b_range_multiple,\n",
    "                                  step*b_multiple):\n",
    "                    for transformation in transforms:\n",
    "                        w_t = w*transformation\n",
    "                        found_option = True\n",
    "                        \n",
    "                        for i in self.X:\n",
    "                            for xi in self.X[i]:\n",
    "                                yi=i\n",
    "                                #Yi(w*xi+b) <1\n",
    "                                if not yi*(np.dot(w_t,xi)+b) >= 1:\n",
    "                                    found_option= False\n",
    "\n",
    "                        if found_option:\n",
    "                            optimize_d[np.linalg.norm(w_t)]= [w_t,b]\n",
    "\n",
    "                if w[0] <0: # when w is less than zero optimization is done\n",
    "                    IsOptimized= True \n",
    "                    print('optimized')\n",
    "                    \n",
    "                else :\n",
    "                    w = w - step #reduce w by step in stepsize\n",
    "                    \n",
    "            norms= sorted([n for n in optimize_d])\n",
    "            optimum_choice = optimize_d[norms[0]]\n",
    "            self.w = optimum_choice[0]\n",
    "            self.b = optimum_choice[1]\n",
    "            latest_optimum= optimum_choice[0][0]+step*2\n",
    "\n",
    "    #predict label for data    \n",
    "    def predict(self,X):\n",
    "        #sign(x.w+b)\n",
    "        classification = np.sign(np.dot(np.array(X),self.w)+self.b)\n",
    "\n",
    "        if classification !=0 :\n",
    "            self.ax.scatter(X[0],X[1],s=150, marker=\"+\", c=self.colors[classification] )\n",
    "\n",
    "        return classification\n",
    "\n",
    "    #function to plot hyperplanes\n",
    "    def visualiz(self):\n",
    "        [[self.ax.scatter(x[0],x[1],s=100, color=self.colors[i]) for x in data_dict[i]] for i in data_dict]\n",
    "        \n",
    "        #return scaler value for hyperplane\n",
    "        def hyperplane(x,w,b,v):\n",
    "            return (-w[0]*x-b+v)/w[1]\n",
    "\n",
    "        datarange = (self.min_x, self.max_x)\n",
    "        hyp_x_min=datarange[0]\n",
    "        hyp_x_max=datarange[1]\n",
    "\n",
    "        #positive suppport vector hyperplane\n",
    "        positiveSV1=hyperplane(hyp_x_min,self.w,self.b,1)\n",
    "        positiveSV2=hyperplane(hyp_x_max,self.w,self.b,1)\n",
    "        self.ax.plot([hyp_x_min,hyp_x_max],[positiveSV1,positiveSV2],'b--')\n",
    "\n",
    "        #negative suppport vector hyperplane\n",
    "        negativeSV1=hyperplane(hyp_x_min,self.w,self.b,-1)\n",
    "        negativeSV2=hyperplane(hyp_x_max,self.w,self.b,-1)\n",
    "        self.ax.plot([hyp_x_min,hyp_x_max],[negativeSV1,negativeSV2],'r--')\n",
    "\n",
    "\n",
    "        #decision boundry hyperplane\n",
    "        decisionboundary1=hyperplane(hyp_x_min,self.w,self.b,0)\n",
    "        decisionboundary2=hyperplane(hyp_x_max,self.w,self.b,0)\n",
    "        self.ax.plot([hyp_x_min,hyp_x_max],[decisionboundary1,decisionboundary2],)\n",
    "\n",
    "        plt.show()\n",
    "\n"
   ]
  },
  {
   "cell_type": "code",
   "execution_count": 42,
   "metadata": {
    "scrolled": false
   },
   "outputs": [
    {
     "name": "stdout",
     "output_type": "stream",
     "text": [
      "optimized\n",
      "optimized\n",
      "optimized\n"
     ]
    },
    {
     "data": {
      "image/png": "[encoded data removed]",
      "text/plain": [
       "<matplotlib.figure.Figure at 0x24e339b4898>"
      ]
     },
     "metadata": {},
     "output_type": "display_data"
    }
   ],
   "source": [
    "#data contains two classes -1,1 and two features\n",
    "data_dict={-1:np.array([[1,5],\n",
    "                       [3,9],\n",
    "                       [2,7],\n",
    "                       [3,4],\n",
    "                       [2,8]]),\n",
    "          1:np.array([[4,1],\n",
    "                     [7,-2],\n",
    "                    [8,3],\n",
    "                     [9,4],\n",
    "                     [10,2]])}\n",
    "\n",
    "\n",
    "clf=SVM()\n",
    "clf.fit(data_dict)\n",
    "pre =[[1,10],\n",
    "     [5,0],\n",
    "     [5,5],\n",
    "     [6,1],]\n",
    "np_pre=np.array(pre)\n",
    "for p in pre:\n",
    "    clf.predict(p)\n",
    "clf.visualiz()\n"
   ]
  },
  {
   "cell_type": "code",
   "execution_count": null,
   "metadata": {
    "collapsed": true
   },
   "outputs": [],
   "source": []
  }
 ],
 "metadata": {
  "kernelspec": {
   "display_name": "Python 3",
   "language": "python",
   "name": "python3"
  },
  "language_info": {
   "codemirror_mode": {
    "name": "ipython",
    "version": 3
   },
   "file_extension": ".py",
   "mimetype": "text/x-python",
   "name": "python",
   "nbconvert_exporter": "python",
   "pygments_lexer": "ipython3",
   "version": "3.6.2"
  }
 },
 "nbformat": 4,
 "nbformat_minor": 2
}
