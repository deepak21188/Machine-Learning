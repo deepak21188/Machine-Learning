{
 "cells": [
  {
   "cell_type": "markdown",
   "metadata": {},
   "source": [
    "# NaiveBayes Bernoulli Implementation"
   ]
  },
  {
   "cell_type": "code",
   "execution_count": 1,
   "metadata": {
    "collapsed": true
   },
   "outputs": [],
   "source": [
    "from __future__ import division\n",
    "import numpy as np\n",
    "from sklearn.feature_extraction.text import CountVectorizer\n",
    "from sklearn.datasets import fetch_20newsgroups\n",
    "from sklearn.metrics import accuracy_score\n",
    "from sklearn.naive_bayes import BernoulliNB\n",
    "import matplotlib as plt\n",
    "import math\n",
    "import logging\n",
    "from time import time"
   ]
  },
  {
   "cell_type": "code",
   "execution_count": 2,
   "metadata": {
    "collapsed": true
   },
   "outputs": [],
   "source": [
    "class MyBayesClassifier():\n",
    "    # For graduate and undergraduate students to implement Bernoulli Bayes\n",
    "    def __init__(self, smooth=1):\n",
    "        self._smooth = smooth # This is for add one smoothing, don't forget!\n",
    "        self._feat_prob = []\n",
    "        self._class_prob = []\n",
    "        self.__Priors = []\n",
    "        self._Ncls = []\n",
    "        self._Nfeat = []\n",
    "\n",
    "    def train(self, X, y):\n",
    "        # counting total  number values in each class\n",
    "        unique, counts = np.unique(y, return_counts=True)\n",
    "\n",
    "        # Calculating Prior Probabilities of each class\n",
    "        for i in range(len(unique)):\n",
    "            self._class_prob.append(np.log(float(counts[i]) / float(len(y))))\n",
    "\n",
    "        # Separating documents classwise\n",
    "        doc_classwise = [[x for x, i in zip(X, y) if cl == i] for cl in np.unique(y)]\n",
    "\n",
    "        # counting the total frequency of every word for each class\n",
    "        word_count = np.array([np.array(i).sum(axis=0) for i in doc_classwise])\n",
    "\n",
    "\n",
    "        #counting each class\n",
    "        class_count = np.array([len(i) for i in doc_classwise])\n",
    "\n",
    "        # Calculating feature probabilities\n",
    "        self._feat_prob = (word_count + self._smooth) / (class_count[np.newaxis].T + 2*self._smooth)\n",
    "\n",
    "\n",
    "        return\n",
    "    \n",
    "    def predict(self, X):\n",
    "      #  posterior_prob=  np.array([ np.array(self._feat_prob) if x>0 else 1 - np.array(self._feat_prob)  for x in X ])\n",
    "        posterior_prob=  [(np.log(self._feat_prob) * x +\n",
    "          np.log(1 - self._feat_prob) * np.abs(x - 1)\n",
    "          ).sum(axis=1) + self._class_prob for x in X]\n",
    "\n",
    "      # comparing posterior for every class and picking the maximum one\n",
    "        pred_y = np.argmax(posterior_prob, axis=1)\n",
    "        return pred_y\n"
   ]
  },
  {
   "cell_type": "code",
   "execution_count": 3,
   "metadata": {},
   "outputs": [
    {
     "name": "stdout",
     "output_type": "stream",
     "text": [
      "data loaded\n",
      "Extracting features from the training data using a count vectorizer\n",
      "Bernoulli Naive bayes Accuracy Score 0.59940872136\n"
     ]
    }
   ],
   "source": [
    "\"\"\" \n",
    "Here is the calling code\n",
    "\n",
    "\"\"\"\n",
    "\n",
    "categories = [\n",
    "        'alt.atheism',\n",
    "        'talk.religion.misc',\n",
    "        'comp.graphics',\n",
    "        'sci.space',\n",
    "    ]\n",
    "remove = ('headers', 'footers', 'quotes')\n",
    "\n",
    "data_train = fetch_20newsgroups(subset='train', categories=categories,\n",
    "                                shuffle=True, random_state=42,\n",
    "                                remove=remove)\n",
    "\n",
    "data_test = fetch_20newsgroups(subset='test', categories=categories,\n",
    "                               shuffle=True, random_state=42,\n",
    "                               remove=remove)\n",
    "print('data loaded')\n",
    "\n",
    "y_train, y_test = data_train.target, data_test.target\n",
    "\n",
    "print(\"Extracting features from the training data using a count vectorizer\")\n",
    "t0 = time()\n",
    "\n",
    "vectorizer = CountVectorizer(stop_words='english', binary=True)#, analyzer='char', ngram_range=(1,3))\n",
    "X_train = vectorizer.fit_transform(data_train.data).toarray()\n",
    "X_test = vectorizer.transform(data_test.data).toarray()\n",
    "\n",
    "\n",
    "clf = MyBayesClassifier()\n",
    "clf.train(X_train,y_train)\n",
    "y_pred1=clf.predict(X_test)\n",
    "\n",
    "print (\"Bernoulli Naive bayes Accuracy Score\", accuracy_score(y_test,y_pred1) )"
   ]
  },
  {
   "cell_type": "code",
   "execution_count": null,
   "metadata": {
    "collapsed": true
   },
   "outputs": [],
   "source": []
  }
 ],
 "metadata": {
  "kernelspec": {
   "display_name": "Python 3",
   "language": "python",
   "name": "python3"
  },
  "language_info": {
   "codemirror_mode": {
    "name": "ipython",
    "version": 3
   },
   "file_extension": ".py",
   "mimetype": "text/x-python",
   "name": "python",
   "nbconvert_exporter": "python",
   "pygments_lexer": "ipython3",
   "version": "3.6.2"
  }
 },
 "nbformat": 4,
 "nbformat_minor": 2
}
