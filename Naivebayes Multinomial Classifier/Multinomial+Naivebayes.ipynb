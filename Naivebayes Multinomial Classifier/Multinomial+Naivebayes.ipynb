{
 "cells": [
  {
   "cell_type": "markdown",
   "metadata": {},
   "source": [
    "# Multinomial Naivebayes Implementation"
   ]
  },
  {
   "cell_type": "code",
   "execution_count": 1,
   "metadata": {
    "collapsed": true
   },
   "outputs": [],
   "source": [
    "from __future__ import division\n",
    "import numpy as np\n",
    "from sklearn.feature_extraction.text import CountVectorizer\n",
    "from sklearn.datasets import fetch_20newsgroups\n",
    "from sklearn.metrics import accuracy_score\n",
    "from sklearn.naive_bayes import BernoulliNB\n",
    "import matplotlib as plt\n",
    "import math\n",
    "import logging\n"
   ]
  },
  {
   "cell_type": "code",
   "execution_count": 2,
   "metadata": {
    "collapsed": true
   },
   "outputs": [],
   "source": [
    "\n",
    "class MyMultinomialBayesClassifier():\n",
    "    # For graduate students only\n",
    "    def __init__(self, smooth=1):\n",
    "        self._smooth = smooth # This is for add one smoothing, don't forget!\n",
    "        self._feat_prob = []\n",
    "        self._class_prob = []\n",
    "        self._Priors = []\n",
    "        self._Ncls = []\n",
    "        self._Nfeat = []\n",
    "\n",
    "    # Train the classifier using features in X and class labels in Y\n",
    "    def train(self, X, y):\n",
    "       #counting total  number values in each class\n",
    "        unique, counts = np.unique(y, return_counts=True)\n",
    "\n",
    "        #Calculating Prior Probabilities of each class\n",
    "        for i in range(len(unique)):\n",
    "            self._class_prob.append(np.log(float(counts[i]) / float(len(y))))\n",
    "\n",
    "        #Separating documents classwise\n",
    "        doc_classwise = [[x for x, i in zip(X, y) if cl == i] for cl in np.unique(y)]\n",
    "\n",
    "        #counting the total frequency of every word for each class\n",
    "        word_count =   np.array([np.array(i).sum(axis=0) for i in doc_classwise])\n",
    "       \n",
    "        #Counting total number of words in each class\n",
    "        total_word_count =  word_count.sum(axis=1)[np.newaxis].T\n",
    "\n",
    "        #Calculating feature probabilities P(Xi/Y)= (Nyi + a)/(Ny + ap)\n",
    "        self._feat_prob =np.log((word_count + self._smooth) / (total_word_count + len(X[0])))\n",
    "\n",
    "        return\n",
    "    # should return an array of predictions, one for each row in X\n",
    "    def predict(self, X):\n",
    "            #calculating Posterior Probability for each data row\n",
    "        posterior_prob = [(self._feat_prob*x).sum(axis=1) + self._class_prob for x in X]\n",
    "\n",
    "        #comparing posterior for every class and picking the maximum one\n",
    "        pred_y = np.argmax(posterior_prob, axis=1)\n",
    "        return pred_y\n"
   ]
  },
  {
   "cell_type": "code",
   "execution_count": 3,
   "metadata": {},
   "outputs": [
    {
     "name": "stdout",
     "output_type": "stream",
     "text": [
      "data loaded\n",
      "Extracting features from the training data using a count vectorizer\n",
      "Multinomial naive bayes Accuracy Score 0.777531411678\n"
     ]
    }
   ],
   "source": [
    "\n",
    "\"\"\" \n",
    "Here is the calling code\n",
    "\n",
    "\"\"\"\n",
    "\n",
    "categories = [\n",
    "        'alt.atheism',\n",
    "        'talk.religion.misc',\n",
    "        'comp.graphics',\n",
    "        'sci.space',\n",
    "    ]\n",
    "remove = ('headers', 'footers', 'quotes')\n",
    "\n",
    "data_train = fetch_20newsgroups(subset='train', categories=categories,\n",
    "                                shuffle=True, random_state=42,\n",
    "                                remove=remove)\n",
    "\n",
    "data_test = fetch_20newsgroups(subset='test', categories=categories,\n",
    "                               shuffle=True, random_state=42,\n",
    "                               remove=remove)\n",
    "print('data loaded')\n",
    "\n",
    "y_train, y_test = data_train.target, data_test.target\n",
    "\n",
    "print(\"Extracting features from the training data using a count vectorizer\")\n",
    "\n",
    "\n",
    "vectorizer = CountVectorizer(stop_words='english', binary=True)#, analyzer='char', ngram_range=(1,3))\n",
    "X_train = vectorizer.fit_transform(data_train.data).toarray()\n",
    "X_test = vectorizer.transform(data_test.data).toarray()\n",
    "\n",
    "\n",
    "alpha = 1   #smothing parameter\n",
    "clf_multi =MyMultinomialBayesClassifier(alpha)\n",
    "clf_multi.train(X_train,y_train)\n",
    "y_pred2 =clf_multi.predict(X_test)\n",
    "\n",
    "print (\"Multinomial naive bayes Accuracy Score\", accuracy_score(y_test,y_pred2) )\n"
   ]
  },
  {
   "cell_type": "code",
   "execution_count": null,
   "metadata": {
    "collapsed": true
   },
   "outputs": [],
   "source": []
  }
 ],
 "metadata": {
  "kernelspec": {
   "display_name": "Python 3",
   "language": "python",
   "name": "python3"
  },
  "language_info": {
   "codemirror_mode": {
    "name": "ipython",
    "version": 3
   },
   "file_extension": ".py",
   "mimetype": "text/x-python",
   "name": "python",
   "nbconvert_exporter": "python",
   "pygments_lexer": "ipython3",
   "version": "3.6.2"
  }
 },
 "nbformat": 4,
 "nbformat_minor": 2
}
